{
 "cells": [
  {
   "cell_type": "markdown",
   "id": "68ea94f8-1e5a-444e-a8cb-482051528daa",
   "metadata": {},
   "source": [
    "### Installing Dependencies"
   ]
  },
  {
   "cell_type": "code",
   "execution_count": 1,
   "id": "63900896-ae3a-4800-b6a8-637a7746324d",
   "metadata": {},
   "outputs": [
    {
     "name": "stderr",
     "output_type": "stream",
     "text": [
      "\n",
      "[notice] A new release of pip is available: 24.3.1 -> 25.0.1\n",
      "[notice] To update, run: python.exe -m pip install --upgrade pip\n"
     ]
    }
   ],
   "source": [
    "%%capture --no-stderr\n",
    "%pip install -U langchain langchain_openai langgraph"
   ]
  },
  {
   "cell_type": "markdown",
   "id": "71baf3ab-1a92-414b-b19a-5c4d84d0bde5",
   "metadata": {},
   "source": [
    "### Importing Required Libraries"
   ]
  },
  {
   "cell_type": "code",
   "execution_count": 2,
   "id": "a30c7c93-479a-4791-88f6-cf01be9d9885",
   "metadata": {},
   "outputs": [],
   "source": [
    "import os, getpass\n",
    "from IPython.display import display, Image\n",
    "from typing import Dict, List, TypedDict\n",
    "from langchain_openai import ChatOpenAI\n",
    "from langgraph.graph import StateGraph, START, END\n",
    "from langchain.schema import HumanMessage, AIMessage, SystemMessage\n",
    "import json"
   ]
  },
  {
   "cell_type": "markdown",
   "id": "27893b99-5098-44b7-90ae-d6cc5b4bf36c",
   "metadata": {},
   "source": [
    "### Set up Environment Variables"
   ]
  },
  {
   "cell_type": "markdown",
   "id": "1877e4b7-bcf7-449a-8afe-fe138bdc9657",
   "metadata": {},
   "source": [
    "The `_set_env` function ensures that you have the `OPENAI_API_KEY` available in your environment.\n",
    "If the key is not found, it prompts you to enter your key and sets it for the current session.\n",
    "\n",
    "This helps prevent issues when working with OPENAI-powered applications."
   ]
  },
  {
   "cell_type": "code",
   "execution_count": 3,
   "id": "1b0ca705-596c-43b7-8937-7a7cfd65b475",
   "metadata": {},
   "outputs": [
    {
     "name": "stdin",
     "output_type": "stream",
     "text": [
      "OPENAI_API_KEY:  ········\n"
     ]
    }
   ],
   "source": [
    "def _set_env(var: str):\n",
    "    if not os.environ.get(var):\n",
    "        os.environ[var] = getpass.getpass(f\"{var}: \")\n",
    "\n",
    "_set_env(\"OPENAI_API_KEY\")"
   ]
  },
  {
   "cell_type": "markdown",
   "id": "6d9d6a15-929f-485c-8698-ac5fa41c95b2",
   "metadata": {},
   "source": [
    "### Defining Portfolio Data"
   ]
  },
  {
   "cell_type": "code",
   "execution_count": 4,
   "id": "c2e597fe-daf7-4e4b-8731-015378a61921",
   "metadata": {},
   "outputs": [],
   "source": [
    "portfolio_data = {\n",
    "    \"name\": \"Harshadeep Chowdary Kommareddi\",\n",
    "    \"title\": [\"Web Developer\", \"Data Enthusiast\", \"AI Enthusiast\"],\n",
    "    \"education\": [\n",
    "        {\n",
    "            \"institution\": \"Birla Institute of Technology and Sciences (BITS) Pilani, Dubai Campus\",\n",
    "            \"location\": \"Dubai, UAE\",\n",
    "            \"period\": \"September 2021 - Present\",\n",
    "            \"edu\": \"Bachelor Of Engineering (Hons.) Computer Science\",\n",
    "            \"score\": \"CGPA: 8.6\",\n",
    "            \"others\": \"Relevant coursework: Cryptography, Optimization, Deep Learning, Data Mining, Machine Learning, Neural Networks and Fuzzy Logic, Foundations in Data Science, Natural Language Processing.\"\n",
    "        },\n",
    "        {\n",
    "            \"institution\": \"FIITJEE, Vijayawada\",\n",
    "            \"location\": \"Andhra Pradesh, India\",\n",
    "            \"period\": \"June 2019 - March 2021\",\n",
    "            \"edu\": \"12th grade\",\n",
    "            \"score\": \"APBIE (12th Grade examination) – 89.2% overall average.\",\n",
    "            \"others\": None,\n",
    "        },\n",
    "        {\n",
    "            \"institution\": \"DR. K.K.R’s GOWTHAM HIGH(E.M), Gudivada\",\n",
    "            \"location\": \"Andhra Pradesh, India\",\n",
    "            \"period\": \"June 2017 - March 2019\",\n",
    "            \"edu\": \"10th grade\",\n",
    "            \"score\": \"AISSE (10th Grade CBSE examination) – 88.6% overall average.\",\n",
    "            \"others\": None,\n",
    "        },\n",
    "    ],\n",
    "    \"skills\": [\"Python\", \"C\", \"C++\", \"TensorFlow\", \"PyTorch\", \"NumPy\", \"Pandas\", \"Power BI\", \"Microsoft Excel\", \"FastAPI\", \"JavaScript\", \"TypeScript\", \"Next JS\", \"React JS\", \"Node JS\", \"SQL\", \"MongoDB\", \"HTML\", \"CSS\", \"Tailwind CSS\", \"Java\", \"LangGraph\"],\n",
    "    \"projects\": [\n",
    "        {\n",
    "            \"title\": \"Data Mining Project - Energy Demand Prediction Using Machine Learning Models\",\n",
    "            \"description\": \"Developed an energy demand forecasting model using QLattice (XAI), outperforming traditional models like Random Forest and XGBoost with a superior R2 of 0.993 and optimized MAE (111) and MSE (21316). Utilized meteorological data (temperature, humidity, etc.) and interpretability tools (SHAP) to enhance model transparency and accuracy.\",\n",
    "            \"tech stack\": [\"scikit-learn\", \"Python\", \"NumPy\", \"Pandas\", \"Gradio\"],\n",
    "        },\n",
    "        {\n",
    "            \"title\": \"Neural Networks Project – Bankruptcy Prediction\",\n",
    "            \"description\": \"Developed a deep learning model for bankruptcy prediction using CNN and LSTM networks, achieving 96.11% accuracy. Applied data preprocessing (PCA, SMOTE) to handle class imbalance and enhance performance. Contributed to model building, evaluation, and financial data analysis, demonstrating machine learning and neural network expertise.\",\n",
    "            \"tech stack\": [\"Python\", \"TensorFlow\", \"scikit-learn\", \"NumPy\", \"Pandas\", \"Matplotlib\", \"Seaborn\"],\n",
    "        },\n",
    "        {\n",
    "            \"title\": \"Foundations in Data Science Project – Supply Chain Optimization using Machine Learning\",\n",
    "            \"description\": \"Performed EDA on a dataset of skincare and healthcare products from a startup company and predicted the product's stock level and transportation costs based on various dependent variables using Machine Learning models. GUI was made using Streamlit.\",\n",
    "            \"tech stack\": [\"Python\", \"NumPy\", \"scikit-learn\", \"Matplotlib\", \"Pandas\", \"Seaborn\", \"Streamlit\"],\n",
    "        },\n",
    "        {\n",
    "            \"title\": \"Web Scraping Project – Amazon Product Price Watcher and Notification System\",\n",
    "            \"description\": \"Implemented a web scraper and built a web application using Streamlit where the application asks the users to enter a product URL and specify a desired price threshold. The system scrapes the product's title, price, rating, and access date daily, storing this data in a CSV file. An email notification is sent if the price falls below the user’s threshold.\",\n",
    "            \"tech stack\": [\"Python\", \"Streamlit\", \"BeautifulSoup\"],\n",
    "        },\n",
    "    ],\n",
    "    \"experience\": [\n",
    "        {\n",
    "            \"company\": \"HashGate Technologies\",\n",
    "            \"role\": \"Web Development Intern\",\n",
    "            \"period\": \"June 2023 - August 2023\",\n",
    "            \"location\": \"Dubai, UAE\",\n",
    "            \"type\": \"on-site\",\n",
    "            \"description\": \"Worked as a junior front-end developer for the web development team. Built multiple websites using Shopify, HTML, CSS, and React JS.\"\n",
    "        },\n",
    "        {\n",
    "            \"company\": \"KPTAC Techologies\", \n",
    "            \"role\": \"Web Development Intern\",\n",
    "            \"period\": \"January 2025 - Present\",\n",
    "            \"location\": \"Dubai, UAE\",\n",
    "            \"type\": \"on-site\",\n",
    "            \"description\": \"Working as a web development intern within the web development team. Developed and implemented various front-end components using Next.Js, Tailwind CSS, and TypeScript.\"\n",
    "        },\n",
    "    ],\n",
    "    \"certifications\": [\n",
    "        {\n",
    "            \"name\": \"Artificial Intelligence Fundamentals\",\n",
    "            \"issued_by\": \"IBM\",\n",
    "            \"issue_date\": \"February 2025\",\n",
    "            \"expiry_date\": \"\",\n",
    "            \"credential_id\": \"\",\n",
    "            \"credential_url\": \"https://www.credly.com/badges/0b9e2d3c-45c4-4c51-a2a3-72cb74baf4d0/linked_in_profile\",\n",
    "        },\n",
    "        {\n",
    "            \"name\": \"Goldman Sachs - Excell Skills for Business Job Simulation\",\n",
    "            \"issued_by\": \"Forage\",\n",
    "            \"issue_date\": \"November 2024\",\n",
    "            \"expiry_date\": \"\",\n",
    "            \"credential_id\": \"H46ofS6fTYdDoFc8Q\",\n",
    "            \"credential_url\": \"https://forage-uploads-prod.s3.amazonaws.com/completion-certificates/MBA4MnZTNFEoJZGnk/eLeZHcwX7CqLhhps7_MBA4MnZTNFEoJZGnk_YMphQPNeNSbwKrBXq_1731576921706_completion_certificate.pdf\",\n",
    "        },\n",
    "        {\n",
    "            \"name\": \"MongoDB Atlas Security\",\n",
    "            \"issued_by\": \"MongoDB\",\n",
    "            \"issue_date\": \"September 2024\",\n",
    "            \"expiry_date\": \"\",\n",
    "            \"credential_id\": \"MDB9ndqzytt1h\",\n",
    "            \"credential_url\": \"https://learn.mongodb.com/c/OCk93R7FRO6gPuNoogpIKg\",\n",
    "        },\n",
    "        {\n",
    "            \"name\": \"Project Management Essentials Certified (PMEC)™\",\n",
    "            \"issued_by\": \"Management & Strategy Institute\",\n",
    "            \"issue_date\": \"September 2024\",\n",
    "            \"expiry_date\": \"\",\n",
    "            \"credential_id\": \"\",\n",
    "            \"credential_url\": \"https://www.proprofs.com/quiz-school/certificate/certificate.php?id=340571534&qid=3593197&uname=Harshadeep%20Chowdary%20Kommareddi\",\n",
    "        },\n",
    "        {\n",
    "            \"name\": \"JavaScript Algorithms and Data Structures\",\n",
    "            \"issued_by\": \"freeCodeCamp\",\n",
    "            \"issue_date\": \"July 2023\",\n",
    "            \"expiry_date\": \"\",\n",
    "            \"credential_id\": \"\",\n",
    "            \"credential_url\": \"https://freecodecamp.org/certification/Hrsh1007/javascript-algorithms-and-data-structures\",\n",
    "        },\n",
    "        {\n",
    "            \"name\": \"Introduction to iot\",\n",
    "            \"issued_by\": \"Cisco Networking Academy\",\n",
    "            \"issue_date\": \"July 2021\",\n",
    "            \"expiry_date\": \"\",\n",
    "            \"credential_id\": \"d3c82184-465a-4fe3-a76c-ae99515ac888\",\n",
    "            \"credential_url\": \"https://www.credly.com/badges/d3c82184-465a-4fe3-a76c-ae99515ac888/public_url\",\n",
    "        },\n",
    "    ],\n",
    "    \"publications\": [\n",
    "        {\n",
    "            \"title\": \"Predicting Energy Demands with Interpretable Machine Learning Models\",\n",
    "            \"publisher\": \"Institute of Electrical and Electronics Engineers (IEEE)\",\n",
    "            \"publication_url\": \"https://ieeexplore.ieee.org/document/10829226\",\n",
    "            \"published_date\": \"25th October, 2024\",\n",
    "        },\n",
    "    ],\n",
    "    \"contact\": {\n",
    "        \"mobile\": \"+971502846189\",\n",
    "        \"gmail\": \"f20210203@dubai.bits-pilani.ac.in\",\n",
    "    },\n",
    "    \"socials\": {\n",
    "        \"GitHub\": \"https://github.com/Harsha107\",\n",
    "        \"Instagram\": \"https://instagram.com/k.harsha.10\",\n",
    "        \"LinkedIn\": \"https://linkedin.com/in/harshadeep-chowdary-kommareddi-353027276\",\n",
    "    },\n",
    "}"
   ]
  },
  {
   "cell_type": "code",
   "execution_count": 5,
   "id": "07dfc911-bbc0-4cc4-aecd-6f07bd4f679e",
   "metadata": {},
   "outputs": [],
   "source": [
    "class ChatState(TypedDict):\n",
    "    messages: List[HumanMessage | AIMessage | SystemMessage]\n",
    "    portfolio_context: str\n",
    "    current_topic: str"
   ]
  },
  {
   "cell_type": "code",
   "execution_count": 6,
   "id": "9f2eb68e-f03b-4e9e-bd29-51ce1452f3b5",
   "metadata": {},
   "outputs": [],
   "source": [
    "llm = ChatOpenAI(model=\"gpt-3.5-turbo\", temperature=0.7)"
   ]
  },
  {
   "cell_type": "code",
   "execution_count": 7,
   "id": "fc176ac2-f455-44bc-af57-f4b7c67d201b",
   "metadata": {},
   "outputs": [],
   "source": [
    "def classify_topic(state: ChatState) -> ChatState:\n",
    "    last_message = state[\"messages\"][-1]\n",
    "    if not isinstance(last_message, HumanMessage):\n",
    "        return {**state, \"current_topic\": \"general\"}\n",
    "\n",
    "    classification_prompt = f\"\"\"\n",
    "    Classify the following message into one of these categories:\n",
    "    - education\n",
    "    - skills\n",
    "    - projects\n",
    "    - experience\n",
    "    - certifications\n",
    "    - publications\n",
    "    - contact\n",
    "    - socials\n",
    "    - general\n",
    "    \n",
    "    Only return the category name as output.\n",
    "    \n",
    "    Message: {last_message}\n",
    "    \n",
    "    Category:\n",
    "    \"\"\"\n",
    "\n",
    "    classification_result = llm.invoke([HumanMessage(content=classification_prompt)])\n",
    "    topic = classification_result.content.strip().lower()\n",
    "\n",
    "    allowed_categories = [\"education\", \"skills\", \"projects\", \"experience\", \"certifications\", \"publications\", \"contact\", \"socials\", \"general\"]\n",
    "\n",
    "    if topic not in allowed_categories:\n",
    "        topic = \"general\"\n",
    "\n",
    "    return {**state, \"current_topic\": topic}"
   ]
  },
  {
   "cell_type": "code",
   "execution_count": 8,
   "id": "77384931-ed92-40e8-9dda-15871243c225",
   "metadata": {},
   "outputs": [],
   "source": [
    "def retreive_context(state: ChatState) -> ChatState:\n",
    "    topic = state[\"current_topic\"]\n",
    "    topic_mapping = {\n",
    "        \"education\": \"education\",\n",
    "        \"skills\": \"skills\",\n",
    "        \"projects\": \"projects\",\n",
    "        \"experience\": \"experience\",\n",
    "        \"certifications\": \"certifications\",\n",
    "        \"publications\": \"publications\",\n",
    "        \"contact\": \"contact\",\n",
    "        \"socials\": \"socials\"\n",
    "    }\n",
    "\n",
    "    if topic in topic_mapping:\n",
    "        context = f\"{topic.capitalize()}: {json.dumps(portfolio_data[topic_mapping[topic]])}\"\n",
    "    else:\n",
    "        context = f\"General info: {portfolio_data['name']} is a {json.dumps(portfolio_data['title'])}\"\n",
    "\n",
    "    return {**state, \"portfolio_context\": context}"
   ]
  },
  {
   "cell_type": "code",
   "execution_count": 9,
   "id": "ee9613b0-454a-4c7a-983a-e506eef8cb4e",
   "metadata": {},
   "outputs": [],
   "source": [
    "def generate_response(state: ChatState) -> ChatState:\n",
    "    system_message = SystemMessage(content=f\"\"\"\n",
    "    You are a helpful assistant for a portfolio website.\n",
    "\n",
    "    Portfolio information:\n",
    "    Name: {portfolio_data['name']}\n",
    "    Title: {', '.join(portfolio_data['title'])}\n",
    "\n",
    "    Context related to user's question:\n",
    "    {state['portfolio_context']}\n",
    "\n",
    "    Respond in a friendly, professional manner.\n",
    "    \"\"\")\n",
    "\n",
    "    messages = [system_message] + state[\"messages\"]\n",
    "    ai_response = llm.invoke(messages)\n",
    "\n",
    "    updated_messages = state[\"messages\"] + [ai_response]\n",
    "    return {**state, \"messages\": updated_messages}"
   ]
  },
  {
   "cell_type": "code",
   "execution_count": 10,
   "id": "eebac08e-103b-48e3-9bcc-fab02594c5b5",
   "metadata": {},
   "outputs": [],
   "source": [
    "def create_chat_graph():\n",
    "    builder = StateGraph(ChatState)\n",
    "\n",
    "    builder.add_node(\"classify_topic\", classify_topic)\n",
    "    builder.add_node(\"retreive_context\", retreive_context)\n",
    "    builder.add_node(\"generate_response\", generate_response)\n",
    "\n",
    "    builder.add_edge(START, \"classify_topic\")\n",
    "    builder.add_edge(\"classify_topic\", \"retreive_context\")\n",
    "    builder.add_edge(\"retreive_context\", \"generate_response\")\n",
    "    builder.add_edge(\"generate_response\", END)\n",
    "\n",
    "    graph = builder.compile()\n",
    "\n",
    "    display(Image(graph.get_graph().draw_mermaid_png()))\n",
    "    return graph"
   ]
  },
  {
   "attachments": {
    "26c16a79-29f5-4a02-bbce-30b320a7927f.png": {
     "image/png": "[encoded data removed]"
    }
   },
   "cell_type": "markdown",
   "id": "071c6ad2-d24a-45a9-a60a-1eed650782fe",
   "metadata": {},
   "source": [
    "![Untitled.png](attachment:26c16a79-29f5-4a02-bbce-30b320a7927f.png)"
   ]
  },
  {
   "cell_type": "code",
   "execution_count": 11,
   "id": "c3dc08c2-6fc0-4375-986e-6ac7422d3dfe",
   "metadata": {},
   "outputs": [],
   "source": [
    "graph = create_chat_graph()"
   ]
  },
  {
   "cell_type": "code",
   "execution_count": 18,
   "id": "9949981f-3732-4fe8-9780-553043764f7e",
   "metadata": {},
   "outputs": [],
   "source": [
    "initial_state = {\n",
    "    \"messages\": [HumanMessage(content=\"Does he have any certifications? Mention their links for me to verify them.\")],\n",
    "    \"portfolio_context\": \"\",\n",
    "    \"current_topic\": \"\"\n",
    "}"
   ]
  },
  {
   "cell_type": "code",
   "execution_count": 19,
   "id": "51a91f01-63e3-42af-84ed-3b1929f3578a",
   "metadata": {},
   "outputs": [
    {
     "name": "stdout",
     "output_type": "stream",
     "text": [
      "User: Does he have any certifications? Mention their links for me to verify them.\n",
      "AI: Yes, I have several certifications. Here are the certifications along with their verification links:\n",
      "\n",
      "1. **Artificial Intelligence Fundamentals**  \n",
      "   - Issued by: IBM\n",
      "   - Issue Date: February 2025\n",
      "   - Verification Link: [IBM AI Fundamentals Certification](https://www.credly.com/badges/0b9e2d3c-45c4-4c51-a2a3-72cb74baf4d0/linked_in_profile)\n",
      "\n",
      "2. **Goldman Sachs - Excell Skills for Business Job Simulation**  \n",
      "   - Issued by: Forage\n",
      "   - Issue Date: November 2024\n",
      "   - Verification Link: [Goldman Sachs Certification](https://forage-uploads-prod.s3.amazonaws.com/completion-certificates/MBA4MnZTNFEoJZGnk/eLeZHcwX7CqLhhps7_MBA4MnZTNFEoJZGnk_YMphQPNeNSbwKrBXq_1731576921706_completion_certificate.pdf)\n",
      "\n",
      "3. **MongoDB Atlas Security**  \n",
      "   - Issued by: MongoDB\n",
      "   - Issue Date: September 2024\n",
      "   - Verification Link: [MongoDB Atlas Security Certification](https://learn.mongodb.com/c/OCk93R7FRO6gPuNoogpIKg)\n",
      "\n",
      "4. **Project Management Essentials Certified (PMEC)**  \n",
      "   - Issued by: Management & Strategy Institute\n",
      "   - Issue Date: September 2024\n",
      "   - Verification Link: [PMEC Certification](https://www.proprofs.com/quiz-school/certificate/certificate.php?id=340571534&qid=3593197&uname=Harshadeep%20Chowdary%20Kommareddi)\n",
      "\n",
      "5. **JavaScript Algorithms and Data Structures**  \n",
      "   - Issued by: freeCodeCamp\n",
      "   - Issue Date: July 2023\n",
      "   - Verification Link: [JavaScript Algorithms and Data Structures Certification](https://freecodecamp.org/certification/Hrsh1007/javascript-algorithms-and-data-structures)\n",
      "\n",
      "6. **Introduction to IoT**  \n",
      "   - Issued by: Cisco Networking Academy\n",
      "   - Issue Date: July 2021\n",
      "   - Verification Link: [Introduction to IoT Certification](https://www.credly.com/badges/d3c82184-465a-4fe3-a76c-ae99515ac888/public_url)\n",
      "\n",
      "Feel free to verify these certifications using the provided links. If you need more information, please let me know!\n"
     ]
    }
   ],
   "source": [
    "result = graph.invoke(initial_state)\n",
    "\n",
    "print(\"User:\", result[\"messages\"][0].content)\n",
    "print(\"AI:\", result[\"messages\"][1].content)"
   ]
  },
  {
   "cell_type": "code",
   "execution_count": null,
   "id": "b9c721e0-90e0-4123-99a2-a0b73e783421",
   "metadata": {},
   "outputs": [],
   "source": []
  }
 ],
 "metadata": {
  "kernelspec": {
   "display_name": "Python 3 (ipykernel)",
   "language": "python",
   "name": "python3"
  },
  "language_info": {
   "codemirror_mode": {
    "name": "ipython",
    "version": 3
   },
   "file_extension": ".py",
   "mimetype": "text/x-python",
   "name": "python",
   "nbconvert_exporter": "python",
   "pygments_lexer": "ipython3",
   "version": "3.13.1"
  }
 },
 "nbformat": 4,
 "nbformat_minor": 5
}
